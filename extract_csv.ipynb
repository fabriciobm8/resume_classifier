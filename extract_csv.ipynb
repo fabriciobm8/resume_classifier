{
 "cells": [
  {
   "cell_type": "code",
   "execution_count": 5,
   "metadata": {},
   "outputs": [],
   "source": [
    "import fitz #PyMuPDF\n",
    "import csv\n",
    "import os\n",
    "import time"
   ]
  },
  {
   "cell_type": "code",
   "execution_count": 6,
   "metadata": {},
   "outputs": [],
   "source": [
    "def process_pdfs_pymupdf(base_directory, output_csv):\n",
    "    data = []\n",
    "    pdf_id = 1\n",
    "    total_time = 0\n",
    "\n",
    "    for subdir, _, files in os.walk(base_directory):\n",
    "        class_name = os.path.basename(subdir)\n",
    "\n",
    "        for filename in files:\n",
    "            if filename.endswith(\".pdf\"):\n",
    "                pdf_path = os.path.join(subdir, filename)\n",
    "\n",
    "                start_time = time.time()\n",
    "                try:\n",
    "                    pdf_documento = fitz.open(pdf_path)\n",
    "                    text = \"\"\n",
    "                    for pagina in pdf_documento:\n",
    "                        text += pagina.get_text()\n",
    "                    elapsed_time = time.time() - start_time\n",
    "\n",
    "                    data.append([pdf_id, text, class_name])\n",
    "                    pdf_id += 1\n",
    "                    total_time += elapsed_time\n",
    "\n",
    "                except Exception as e:\n",
    "                    elapsed_time = time.time() - start_time\n",
    "                    total_time += elapsed_time\n",
    "                    print(f\"Error processing {filename} with PyMuPDF: {e}\")\n",
    "\n",
    "    with open(output_csv, mode='w', newline='', encoding='utf-8') as file:\n",
    "        writer = csv.writer(file)\n",
    "        writer.writerow([\"id\", \"text\", \"class\"])\n",
    "        writer.writerows(data)\n",
    "\n",
    "    print(f\"Data saved in {output_csv}\")\n",
    "    print(f\"Total execution time (PyMuPDF): {total_time:.2f} seconds\")\n",
    "    return total_time"
   ]
  },
  {
   "cell_type": "code",
   "execution_count": 7,
   "metadata": {},
   "outputs": [
    {
     "name": "stdout",
     "output_type": "stream",
     "text": [
      "Data saved in data.csv\n",
      "Total execution time (PyMuPDF): 47.01 seconds\n"
     ]
    },
    {
     "data": {
      "text/plain": [
       "47.010531425476074"
      ]
     },
     "execution_count": 7,
     "metadata": {},
     "output_type": "execute_result"
    }
   ],
   "source": [
    "process_pdfs_pymupdf(\"data\", \"data.csv\")"
   ]
  }
 ],
 "metadata": {
  "kernelspec": {
   "display_name": "Python 3 (ipykernel)",
   "language": "python",
   "name": "python3"
  },
  "language_info": {
   "codemirror_mode": {
    "name": "ipython",
    "version": 3
   },
   "file_extension": ".py",
   "mimetype": "text/x-python",
   "name": "python",
   "nbconvert_exporter": "python",
   "pygments_lexer": "ipython3",
   "version": "3.12.0"
  }
 },
 "nbformat": 4,
 "nbformat_minor": 2
}
